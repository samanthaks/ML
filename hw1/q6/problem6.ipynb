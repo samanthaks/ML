{
 "cells": [
  {
   "cell_type": "code",
   "execution_count": 3,
   "metadata": {
    "collapsed": true
   },
   "outputs": [],
   "source": [
    "import scipy.io as spio\n",
    "import numpy as np\n",
    "import sys"
   ]
  },
  {
   "cell_type": "code",
   "execution_count": 1,
   "metadata": {
    "collapsed": true
   },
   "outputs": [],
   "source": [
    "class Node(object):\n",
    "    left = None\n",
    "    right = None\n",
    "    data = None\n",
    "    threshold = None\n",
    "    def __init__(self):\n",
    "        self.left = None\n",
    "        self.right = None\n",
    "        self.data = None"
   ]
  },
  {
   "cell_type": "code",
   "execution_count": 2,
   "metadata": {
    "collapsed": true
   },
   "outputs": [],
   "source": [
    "def read_file(filename):\n",
    "    '''\n",
    "    Returns the images matrix and the labels matrix\n",
    "    '''\n",
    "    data = spio.loadmat(filename)\n",
    "    X = np.asarray(data['X'], dtype=np.int32)\n",
    "    Y = np.asarray(data['Y'], dtype=np.int32)\n",
    "    return X,Y\n",
    "\n",
    "def separate_data(X, Y, ratio):\n",
    "    '''\n",
    "    Create training and testing sets\n",
    "    '''\n",
    "    inds = sample(range(len(X)),int(ratio*len(X)))\n",
    "    X_train = X[inds,]\n",
    "    X_test = np.delete(X,inds,axis=0)\n",
    "    Y_train = Y[inds]\n",
    "    Y_test = np.delete(Y,inds,axis=0)\n",
    "    return X_train,Y_train,X_test,Y_test"
   ]
  },
  {
   "cell_type": "code",
   "execution_count": 4,
   "metadata": {
    "collapsed": false
   },
   "outputs": [
    {
     "ename": "SyntaxError",
     "evalue": "invalid syntax (<ipython-input-4-5621bf32ab4e>, line 9)",
     "output_type": "error",
     "traceback": [
      "\u001b[0;36m  File \u001b[0;32m\"<ipython-input-4-5621bf32ab4e>\"\u001b[0;36m, line \u001b[0;32m9\u001b[0m\n\u001b[0;31m    if attributes = None:\u001b[0m\n\u001b[0m                  ^\u001b[0m\n\u001b[0;31mSyntaxError\u001b[0m\u001b[0;31m:\u001b[0m invalid syntax\n"
     ]
    }
   ],
   "source": [
    "def build_decision_tree(examples, labels, threshold, depth, row=0):\n",
    "    root = Node()\n",
    "    \n",
    "    #examples - a matrix of training data\n",
    "    #target - the lables of the training data\n",
    "    #attributes - ???\n",
    "    #depth - the adjustable hyperparameter K that determines depth of tree\n",
    "    \"\"\" This was ID3 but now we have to do something else\n",
    "    set_all = set(exmaples)\n",
    "    if len(set_all) == 1:\n",
    "        root.data = list(set_all)[0]\n",
    "        return root\n",
    "    \n",
    "    if attributes = None:\n",
    "        val, counts = np.unique(data, return_counts=True)\n",
    "        root.data = val[argmax(counts)]\n",
    "        return root\n",
    "        \n",
    "    a = best_att(examples, attributes)\n",
    "    root.data = a\n",
    "    \n",
    "    root.left = Node()\n",
    "    \n",
    "    root.right = Node()\n",
    "    attributes = remove_att(attributes, a)\n",
    "    \"\"\"\n",
    "    #Base case: There is only one element in the set OR max depth (K) has been reached\n",
    "    if examples.size = 0:#is empty\n",
    "        #make something up!\n",
    "        root.data = random.randrange(0,9)\n",
    "        return root\n",
    "    elif depth == 0:\n",
    "        #Take the mode of the labels of the remaining data    \n",
    "        #Return the tree model\n",
    "        root.data = stats.mode(target)\n",
    "        return root\n",
    "      \n",
    "    \n",
    "    #Split The Data Into Two Categories at threshold\n",
    "    for i in range(examples.shape[1]):\n",
    "        d_col = examples[:,i]\n",
    "        d_label = labels[i]\n",
    "        left_examples = np.empty([examples.shape[1], 1])\n",
    "        right_examples = np.empty([lables.shape[0], 1])\n",
    "        \n",
    "        \n",
    "        if examples[row][i] < threshold:\n",
    "            left_examples = np.concatenate((left_examples, d_col[np.newaxis].T), axis=1)\n",
    "            left_label = np.concatenate((left_label, d_label[np.newaxis].T), axis=1)\n",
    "        else:\n",
    "            right_examples = np.concatenate((right_examples, d_col))\n",
    "            left_label = np.concatenate((right_label, d_label))\n",
    "    \n",
    "    left_examples = left_examples[1,]\n",
    "    left_child = Node()\n",
    "    right_child = Node()\n",
    "    #Run Decision Tree Builder on X < T, X >=T\n",
    "    left_child = build_decision_tree(left_examples, left_label, threshold, depth-1, row+1)    \n",
    "    right_child = build_decision_tree(right_examples, right_label, threshold, depth-1, row+1)\n",
    "    \n",
    "    #Aribitrary Threshold\n",
    "    left_child.threshold = 128\n",
    "    right_child.threshold = 128\n",
    "    \n",
    "    \n",
    "    root.left = left_child \n",
    "    root.right = right_child\n",
    "    \n",
    "    return root\n",
    "    "
   ]
  },
  {
   "cell_type": "code",
   "execution_count": null,
   "metadata": {
    "collapsed": true
   },
   "outputs": [],
   "source": [
    "def best_att(examples, attributes):\n",
    "    entropies = {}\n",
    "    for a in attributes:\n",
    "        entropies[a] = entropy(a)\n",
    "    \n",
    "    best = sorted(entropies, key=entropies.__getitem__, reverse=True)[0]\n",
    "    return best\n",
    "    \n",
    "def entropy(data):\n",
    "    entropy = 0.0\n",
    "    \n",
    "    val, counts = np.unique(data, return_counts=True)\n",
    "    \n",
    "    freqs = []\n",
    "    for count in counts:\n",
    "        freqs.append(float(count)/len(data))\n",
    "    \n",
    "    for p_y in freqs:\n",
    "        if p_y != 0.0\n",
    "            entropy += p_y * np.log(1/p_y)\n",
    "\n",
    "    return entropy"
   ]
  },
  {
   "cell_type": "code",
   "execution_count": null,
   "metadata": {
    "collapsed": true
   },
   "outputs": [],
   "source": [
    "def run_tree_classifier(root, data, threshold):\n",
    "    idx = 0\n",
    "    while threshold != None:\n",
    "        if data[idx] < root.threshold:\n",
    "            root = root.left\n",
    "        else root = root.right\n",
    "        idx += 1\n",
    "    return root.data\n"
   ]
  },
  {
   "cell_type": "code",
   "execution_count": null,
   "metadata": {
    "collapsed": true
   },
   "outputs": [],
   "source": [
    "def test_tree_classifier(root, test_data, test_labels):\n",
    "    for i in range(test_data.shape[1]):\n",
    "        if test_labels[i] = run_tree_classifier(root, test_data[:,i]):\n",
    "            passed += 1\n",
    "    accuracy = passed/test_data.shape[1]\n",
    "    return accuracy        \n",
    "        \n",
    "    "
   ]
  },
  {
   "cell_type": "code",
   "execution_count": null,
   "metadata": {
    "collapsed": true
   },
   "outputs": [],
   "source": [
    "def main:\n",
    "    if sys.argc < 2:\n",
    "        print(\"Usage: run_decision_classifier <data_file> <K>\")\n",
    "        return\n",
    "    \n",
    "    data_file = sys.argv[1]\n",
    "    K = sys.argv[2]\n",
    "    \n",
    "    if K < 1:\n",
    "        print(\"K must be greater than 0\")\n",
    "        return\n",
    "    X, Y = readfile(data_file)\n",
    "    X_train,Y_train,X_test,Y_test = separate_data(X,Y,.80)\n",
    "    \n",
    "    tree_classifier = build_decision_tree(X_train, Y_train, 128, K)\n",
    "    accuracy = test_tree_classifier(tree_classifier, X_test, Y_test)\n",
    "    \n",
    "    print(\"The accuracy of the classifer generated from the data is: %f\" % accuracy)\n",
    "    \n",
    "    \n",
    "    "
   ]
  },
  {
   "cell_type": "markdown",
   "metadata": {},
   "source": []
  }
 ],
 "metadata": {
  "kernelspec": {
   "display_name": "Python 2",
   "language": "python",
   "name": "python2"
  },
  "language_info": {
   "codemirror_mode": {
    "name": "ipython",
    "version": 2
   },
   "file_extension": ".py",
   "mimetype": "text/x-python",
   "name": "python",
   "nbconvert_exporter": "python",
   "pygments_lexer": "ipython2",
   "version": "2.7.11"
  }
 },
 "nbformat": 4,
 "nbformat_minor": 2
}
