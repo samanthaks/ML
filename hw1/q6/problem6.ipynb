{
 "cells": [
  {
   "cell_type": "code",
   "execution_count": 3,
   "metadata": {},
   "outputs": [],
   "source": [
    "import scipy.io as spio\n",
    "import numpy as np"
   ]
  },
  {
   "cell_type": "code",
   "execution_count": 1,
   "metadata": {},
   "outputs": [],
   "source": [
    "class Node(object):\n",
    "    left = None\n",
    "    right = None\n",
    "    data = None\n",
    "    \n",
    "    def __init__(self):\n",
    "        self.left = None\n",
    "        self.right = None\n",
    "        self.data = None"
   ]
  },
  {
   "cell_type": "code",
   "execution_count": 2,
   "metadata": {},
   "outputs": [],
   "source": [
    "def read_file(self,filename):\n",
    "    '''\n",
    "    Returns the images matrix and the labels matrix\n",
    "    '''\n",
    "    data = spio.loadmat(filename)\n",
    "    X = np.asarray(data['X'], dtype=np.int32)\n",
    "    Y = np.asarray(data['Y'], dtype=np.int32)\n",
    "    return X,Y\n",
    "\n",
    "def separate_data(self):\n",
    "    '''\n",
    "    Create training and testing sets\n",
    "    '''\n",
    "    inds = sample(range(len(self.X)),int(self.ratio*len(self.X)))\n",
    "    X_train = self.X[inds,]\n",
    "    X_test = np.delete(self.X,inds,axis=0)\n",
    "    Y_train = self.Y[inds]\n",
    "    Y_test = np.delete(self.Y,inds,axis=0)\n",
    "    return X_train,Y_train,X_test,Y_test"
   ]
  },
  {
   "cell_type": "code",
   "execution_count": 4,
   "metadata": {},
   "outputs": [
    {
     "ename": "SyntaxError",
     "evalue": "invalid syntax (<ipython-input-4-5621bf32ab4e>, line 9)",
     "output_type": "error",
     "traceback": [
      "\u001b[0;36m  File \u001b[0;32m\"<ipython-input-4-5621bf32ab4e>\"\u001b[0;36m, line \u001b[0;32m9\u001b[0m\n\u001b[0;31m    if attributes = None:\u001b[0m\n\u001b[0m                  ^\u001b[0m\n\u001b[0;31mSyntaxError\u001b[0m\u001b[0;31m:\u001b[0m invalid syntax\n"
     ]
    }
   ],
   "source": [
    "def build_decision_tree(examples, target, attributes, depth):\n",
    "    root = Node()\n",
    "    \n",
    "    set_all = set(exmaples)\n",
    "    if len(set_all) == 1:\n",
    "        root.data = list(set_all)[0]\n",
    "        return root\n",
    "    \n",
    "    if attributes = None:\n",
    "        val, counts = np.unique(data, return_counts=True)\n",
    "        root.data = val[argmax(counts)]\n",
    "        return root\n",
    "        \n",
    "    a = best_att(examples, attributes)\n",
    "    root.data = a\n",
    "    \n",
    "    root.left = Node()\n",
    "    \n",
    "    root.right = Node()\n",
    "    attributes = remove_att(attributes, a)\n",
    "    build_decision_tree(examples, target, attributes, depth)    \n",
    "        "
   ]
  },
  {
   "cell_type": "code",
   "execution_count": null,
   "metadata": {},
   "outputs": [],
   "source": [
    "def best_att(examples, attributes):\n",
    "    entropies = {}\n",
    "    for a in attributes:\n",
    "        entropies[a] = entropy(a)\n",
    "    \n",
    "    best = sorted(entropies, key=entropies.__getitem__, reverse=True)[0]\n",
    "    return best\n",
    "    \n",
    "def entropy(data):\n",
    "    entropy = 0.0\n",
    "    \n",
    "    val, counts = np.unique(data, return_counts=True)\n",
    "    \n",
    "    freqs = []\n",
    "    for count in counts:\n",
    "        freqs.append(float(count)/len(data))\n",
    "    \n",
    "    for p_y in freqs:\n",
    "        if p_y != 0.0\n",
    "            entropy += p_y * np.log(1/p_y)\n",
    "\n",
    "    return entropy"
   ]
  }
 ],
 "metadata": {
  "kernelspec": {
   "display_name": "Python 3",
   "language": "python",
   "name": "python3"
  },
  "language_info": {
   "codemirror_mode": {
    "name": "ipython",
    "version": 3
   },
   "file_extension": ".py",
   "mimetype": "text/x-python",
   "name": "python",
   "nbconvert_exporter": "python",
   "pygments_lexer": "ipython3",
   "version": "3.6.3"
  }
 },
 "nbformat": 4,
 "nbformat_minor": 2
}
